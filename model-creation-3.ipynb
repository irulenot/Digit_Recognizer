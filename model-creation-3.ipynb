{
 "cells": [
  {
   "cell_type": "markdown",
   "metadata": {},
   "source": [
    "# Model Creation"
   ]
  },
  {
   "cell_type": "code",
   "execution_count": 11,
   "metadata": {},
   "outputs": [],
   "source": [
    "import pandas as pd\n",
    "import numpy as np\n",
    "import matplotlib.pyplot as plt\n",
    "\n",
    "path = '/Users/antonmax2/Documents/dev/data/digit_recognizer/'\n",
    "training_dataframe = pd.read_csv(path+'uniform.csv')\n",
    "\n",
    "training_data = training_dataframe.iloc[:22770]\n",
    "validation_data = training_dataframe.iloc[22770:30360]\n",
    "test_data = training_dataframe.iloc[30360:]"
   ]
  },
  {
   "cell_type": "code",
   "execution_count": 16,
   "metadata": {},
   "outputs": [],
   "source": [
    "import os\n",
    "import tensorflow as tf\n",
    "from sklearn.metrics import accuracy_score"
   ]
  },
  {
   "cell_type": "code",
   "execution_count": null,
   "metadata": {},
   "outputs": [],
   "source": [
    "seed = 128\n",
    "rng = np.random.RandomState(128)\n",
    "\n",
    "input_units = 784\n",
    "hidden_units = 30\n",
    "output_units = 10\n",
    "\n",
    "x = tf.placeholder(tf.float32, [None, input_units])\n",
    "y = tf.placeholder(tf.float32, [None, output_units])\n",
    "\n",
    "epochs = 150\n",
    "batch_size = 128\n",
    "learning_rate = 0.001\n",
    "\n",
    "weights = {\n",
    "    'hidden': tf.Variable(tf.random_normal([input_units, hidden_units], seed=seed)),\n",
    "    'output': tf.Variable(tf.random_normal([hidden_units, output_units], seed=seed))\n",
    "}\n",
    "\n",
    "biases = {\n",
    "    'hidden': tf.Variable(tf.random_normal([hidden_units], seed=seed)),\n",
    "    'output': tf.Variable(tf.random_normal([output_units], seed=seed))\n",
    "}"
   ]
  }
 ],
 "metadata": {
  "kernelspec": {
   "display_name": "Python 3",
   "language": "python",
   "name": "python3"
  },
  "language_info": {
   "codemirror_mode": {
    "name": "ipython",
    "version": 3
   },
   "file_extension": ".py",
   "mimetype": "text/x-python",
   "name": "python",
   "nbconvert_exporter": "python",
   "pygments_lexer": "ipython3",
   "version": "3.6.5"
  }
 },
 "nbformat": 4,
 "nbformat_minor": 2
}
