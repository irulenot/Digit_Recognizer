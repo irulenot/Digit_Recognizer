{
 "cells": [
  {
   "cell_type": "markdown",
   "metadata": {},
   "source": [
    "# Model Analysis\n",
    "\n",
    "#### Model Performance Accuracy\n",
    "    Linear Regression: 22.89%\n",
    "    Logistic Regression: 89.93%\n",
    "    SVM: 93.41%\n",
    "    NN: 96.25%\n",
    "    \n",
    "    KNN: Too many features for my device"
   ]
  },
  {
   "cell_type": "code",
   "execution_count": 1,
   "metadata": {},
   "outputs": [],
   "source": [
    "import pandas as pd\n",
    "import numpy as np\n",
    "import matplotlib.pyplot as plt\n",
    "\n",
    "path = '/Users/antonmax2/Documents/dev/data/digit_recognizer/'\n",
    "df_train = pd.read_csv(path+'train_data.csv')\n",
    "df_val = pd.read_csv(path+'val_data.csv')\n",
    "df_test = pd.read_csv(path+'test_data.csv')"
   ]
  },
  {
   "cell_type": "code",
   "execution_count": 2,
   "metadata": {},
   "outputs": [],
   "source": [
    "# Converting dataframes -> numpy arrays to train models off of \n",
    "train = df_train.values\n",
    "val = df_val.values\n",
    "test = df_test.values\n",
    "\n",
    "Xtr = train[:,1:]\n",
    "Ytr = train[:,0]\n",
    "Xval = val[:,1:]\n",
    "Yval = val[:,0]\n",
    "Xte = test[:,1:]\n",
    "Yte = test[:,0]"
   ]
  },
  {
   "cell_type": "code",
   "execution_count": 3,
   "metadata": {},
   "outputs": [],
   "source": [
    "# Normalizing data to use simple Keras models\n",
    "from sklearn import preprocessing\n",
    "Xtr = preprocessing.normalize(Xtr)\n",
    "Xval = preprocessing.normalize(Xval)\n",
    "Xte = preprocessing.normalize(Xte)"
   ]
  },
  {
   "cell_type": "code",
   "execution_count": 14,
   "metadata": {},
   "outputs": [
    {
     "name": "stdout",
     "output_type": "stream",
     "text": [
      "Linear model accuracy: 24.53%\n"
     ]
    }
   ],
   "source": [
    "from sklearn import linear_model\n",
    "from sklearn.metrics import accuracy_score\n",
    "\n",
    "regr = linear_model.LinearRegression()\n",
    "regr.fit(Xtr, Ytr)\n",
    "Yhat = np.floor(regr.predict(Xval))\n",
    "print(\"Linear model accuracy: {0:.2f}%\".format(accuracy_score(Yval, Yhat)*100))"
   ]
  },
  {
   "cell_type": "code",
   "execution_count": 9,
   "metadata": {},
   "outputs": [
    {
     "name": "stdout",
     "output_type": "stream",
     "text": [
      "Linear model accuracy: 89.93%\n"
     ]
    }
   ],
   "source": [
    "from sklearn.linear_model import LogisticRegression\n",
    "\n",
    "lr = LogisticRegression()\n",
    "lr.fit(Xtr, Ytr)\n",
    "Yhat = lr.predict(Xval)\n",
    "print(\"Linear model accuracy: {0:.2f}%\".format(accuracy_score(Yval, Yhat)*100))"
   ]
  },
  {
   "cell_type": "code",
   "execution_count": 5,
   "metadata": {},
   "outputs": [
    {
     "name": "stdout",
     "output_type": "stream",
     "text": [
      "SVM model accuracy: 93.41%\n"
     ]
    }
   ],
   "source": [
    "from sklearn.svm import LinearSVC\n",
    "from sklearn.multiclass import OneVsOneClassifier\n",
    "\n",
    "Yhat = OneVsOneClassifier(LinearSVC(random_state=0)).fit(Xtr, Ytr).predict(Xval)\n",
    "print(\"SVM model accuracy: {0:.2f}%\".format(accuracy_score(Yval, Yhat)*100))"
   ]
  },
  {
   "cell_type": "code",
   "execution_count": 6,
   "metadata": {
    "scrolled": true
   },
   "outputs": [
    {
     "name": "stdout",
     "output_type": "stream",
     "text": [
      "NN model accuracy: 96.25%\n"
     ]
    }
   ],
   "source": [
    "from sklearn.neural_network import MLPClassifier\n",
    "\n",
    "clf = MLPClassifier()\n",
    "clf.fit(Xtr, Ytr)\n",
    "Yhat = clf.predict(Xval)\n",
    "print(\"NN model accuracy: {0:.2f}%\".format(accuracy_score(Yval, Yhat)*100))"
   ]
  },
  {
   "cell_type": "markdown",
   "metadata": {},
   "source": [
    "KNN takes too long on my device due to all the features present in this problem"
   ]
  },
  {
   "cell_type": "code",
   "execution_count": 58,
   "metadata": {},
   "outputs": [],
   "source": [
    "path = '/Users/antonmax2/Documents/dev/data/digit_recognizer/'\n",
    "test_dataframe = pd.read_csv(path+'test.csv')"
   ]
  },
  {
   "cell_type": "code",
   "execution_count": 61,
   "metadata": {},
   "outputs": [],
   "source": [
    "path = '/Users/antonmax2/Documents/dev/data/digit_recognizer/'\n",
    "train_dataframe = pd.read_csv(path+'train.csv')"
   ]
  },
  {
   "cell_type": "code",
   "execution_count": null,
   "metadata": {},
   "outputs": [],
   "source": [
    "train_dataframe"
   ]
  },
  {
   "cell_type": "code",
   "execution_count": 59,
   "metadata": {},
   "outputs": [],
   "source": [
    "# Removing all features from test.csv not evaluated in our model\n",
    "train_NL = df_train\n",
    "train_NL = train_NL.drop(['label'], axis=1)\n",
    "for i in range(784):\n",
    "    col = \"pixel\" + str(i)\n",
    "    if col not in train_NL.columns:\n",
    "        test_dataframe = test_dataframe.drop([col], axis=1)"
   ]
  },
  {
   "cell_type": "code",
   "execution_count": null,
   "metadata": {},
   "outputs": [],
   "source": []
  },
  {
   "cell_type": "code",
   "execution_count": null,
   "metadata": {},
   "outputs": [],
   "source": [
    "Yhat = OneVsOneClassifier(LinearSVC(random_state=0)).fit(X).predict(Xval)"
   ]
  },
  {
   "cell_type": "markdown",
   "metadata": {},
   "source": [
    "*Train model on raw train set, and on non uniform set, and on pixels included"
   ]
  }
 ],
 "metadata": {
  "kernelspec": {
   "display_name": "Python 3",
   "language": "python",
   "name": "python3"
  },
  "language_info": {
   "codemirror_mode": {
    "name": "ipython",
    "version": 3
   },
   "file_extension": ".py",
   "mimetype": "text/x-python",
   "name": "python",
   "nbconvert_exporter": "python",
   "pygments_lexer": "ipython3",
   "version": "3.6.5"
  }
 },
 "nbformat": 4,
 "nbformat_minor": 2
}
